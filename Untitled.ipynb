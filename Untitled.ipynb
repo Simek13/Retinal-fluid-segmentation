{
 "cells": [
  {
   "cell_type": "code",
   "execution_count": 1,
   "metadata": {},
   "outputs": [],
   "source": [
    "import os\n",
    "from PIL import Image\n",
    "import numpy as np\n",
    "import sys\n",
    "import cv2\n",
    "import glob"
   ]
  },
  {
   "cell_type": "code",
   "execution_count": 2,
   "metadata": {},
   "outputs": [],
   "source": [
    "def get_image_matrix(image_path):\n",
    "    img = Image.open(image_path)\n",
    "    return np.asarray(img, dtype=np.float32)\n",
    "\n",
    "\n",
    "def get_mask_matrix(mask_path):\n",
    "    mask = Image.open(mask_path)\n",
    "    return np.asarray(mask, dtype=np.int64)"
   ]
  },
  {
   "cell_type": "code",
   "execution_count": 6,
   "metadata": {},
   "outputs": [
    {
     "name": "stdout",
     "output_type": "stream",
     "text": [
      "[[[1. 0. 0. 0.]\n",
      "  [1. 0. 0. 0.]\n",
      "  [1. 0. 0. 0.]\n",
      "  [1. 0. 0. 0.]\n",
      "  [1. 0. 0. 0.]]\n",
      "\n",
      " [[1. 0. 0. 0.]\n",
      "  [1. 0. 0. 0.]\n",
      "  [1. 0. 0. 0.]\n",
      "  [1. 0. 0. 0.]\n",
      "  [1. 0. 0. 0.]]\n",
      "\n",
      " [[1. 0. 0. 0.]\n",
      "  [1. 0. 0. 0.]\n",
      "  [1. 0. 0. 0.]\n",
      "  [1. 0. 0. 0.]\n",
      "  [1. 0. 0. 0.]]\n",
      "\n",
      " [[1. 0. 0. 0.]\n",
      "  [1. 0. 0. 0.]\n",
      "  [1. 0. 0. 0.]\n",
      "  [1. 0. 0. 0.]\n",
      "  [1. 0. 0. 0.]]\n",
      "\n",
      " [[1. 0. 0. 0.]\n",
      "  [1. 0. 0. 0.]\n",
      "  [1. 0. 0. 0.]\n",
      "  [1. 0. 0. 0.]\n",
      "  [1. 0. 0. 0.]]]\n"
     ]
    }
   ],
   "source": [
    "np.set_printoptions(threshold=sys.maxsize)\n",
    "img_path = \"D:/Users/Sime/FER/Diplomski/Diplomski rad/Kapsularne/Retinal-fluid-segmentation/Spectralis_4a8a81b1c06072385738775dccdc7942_026.png\"\n",
    "img = Image.open(img_path)\n",
    "train_img = np.array(img, dtype=np.uint8)\n",
    "train_img[train_img == 85] = 1\n",
    "train_img[train_img == 170] = 2\n",
    "train_img[train_img == 255] = 3\n",
    "n_values = np.max(train_img) + 1\n",
    "b = np.eye(n_values)[train_img]"
   ]
  },
  {
   "cell_type": "code",
   "execution_count": 14,
   "metadata": {},
   "outputs": [
    {
     "name": "stdout",
     "output_type": "stream",
     "text": [
      "[246692.      0.  12969.   2483.]\n"
     ]
    }
   ],
   "source": [
    "sums = np.sum(b, axis=(0,1))\n",
    "print(sums)"
   ]
  },
  {
   "cell_type": "code",
   "execution_count": 17,
   "metadata": {},
   "outputs": [
    {
     "name": "stdout",
     "output_type": "stream",
     "text": [
      "[1.06263250e+00 2.62144000e+05 2.02115652e+01 1.05533011e+02]\n",
      "[4.05362130e-06 1.00000000e+00 7.71010023e-05 4.02576490e-04]\n"
     ]
    }
   ],
   "source": [
    "w = np.sum(sums) / (sums + 1)\n",
    "print(w)\n",
    "w = w / np.max(w)\n",
    "print(w)"
   ]
  },
  {
   "cell_type": "code",
   "execution_count": 1,
   "metadata": {},
   "outputs": [
    {
     "name": "stderr",
     "output_type": "stream",
     "text": [
      "Using TensorFlow backend.\n"
     ]
    }
   ],
   "source": [
    "import keras.backend as K"
   ]
  },
  {
   "cell_type": "code",
   "execution_count": 3,
   "metadata": {},
   "outputs": [],
   "source": [
    "def calculate_class_weights_presence(root_path):\n",
    "    masks_path = root_path + \"/masks\"\n",
    "    masks = [d for d in os.listdir(masks_path)]\n",
    "    class_counter = [0, 0, 0, 0]\n",
    "\n",
    "    for m in masks:\n",
    "        mask = Image.open(os.path.join(root_path, 'masks', m))\n",
    "        pixels = mask.getdata()\n",
    "        if 0 in pixels:\n",
    "            class_counter[0] += 1\n",
    "        if 85 in pixels:\n",
    "            class_counter[1] += 1\n",
    "        if 170 in pixels:\n",
    "            class_counter[2] += 1\n",
    "        if 255 in pixels:\n",
    "            class_counter[3] += 1\n",
    "\n",
    "    print(class_counter)\n",
    "#     weights = [class_counter[0] / class_counter[0],\n",
    "#                class_counter[0] / class_counter[1],\n",
    "#                class_counter[0] / class_counter[2],\n",
    "#                class_counter[0] / class_counter[3]]\n",
    "#     print(weights)\n",
    "#     weights = np.asarray(weights) / max(weights)\n",
    "#     class_weights = {\n",
    "#         0: weights[0],\n",
    "#         1: weights[1],\n",
    "#         2: weights[2],\n",
    "#         3: weights[3]\n",
    "#     }\n",
    "    class_weights = [\n",
    "        class_counter[0] / class_counter[0],\n",
    "        class_counter[1] / class_counter[0],\n",
    "        class_counter[2] / class_counter[0],\n",
    "        class_counter[3] / class_counter[0]\n",
    "    ]\n",
    "    return  class_weights\n"
   ]
  },
  {
   "cell_type": "code",
   "execution_count": 27,
   "metadata": {},
   "outputs": [],
   "source": [
    "def calculate_class_weights_pixel_wise(root_path):\n",
    "    masks_path = root_path + \"/masks\"\n",
    "    masks = [d for d in os.listdir(masks_path)]\n",
    "    class_counter = [0, 0, 0, 0]\n",
    "\n",
    "    for m in masks:\n",
    "        mask = Image.open(os.path.join(root_path, 'masks', m))\n",
    "        pixels = mask.getdata()\n",
    "        for p in pixels:\n",
    "            if p == 0:\n",
    "                class_counter[0] += 1\n",
    "            if p == 85:\n",
    "                class_counter[1] += 1\n",
    "            if p == 170:\n",
    "                class_counter[2] += 1\n",
    "            if p == 255:\n",
    "                class_counter[3] += 1\n",
    "\n",
    "    print(class_counter)\n",
    "    weights = [class_counter[0] / class_counter[0],\n",
    "               class_counter[0] / class_counter[1],\n",
    "               class_counter[0] / class_counter[2],\n",
    "               class_counter[0] / class_counter[3]]\n",
    "    print(weights)\n",
    "    # weights = np.asarray(weights) / max(weights)\n",
    "    return weights"
   ]
  },
  {
   "cell_type": "code",
   "execution_count": 23,
   "metadata": {},
   "outputs": [],
   "source": [
    "def calculate_weights_mse_presence(root_path):\n",
    "    masks_path = root_path + \"/masks\"\n",
    "    masks = [d for d in os.listdir(masks_path)]\n",
    "    class_counter = [0, 0, 0, 0]\n",
    "    count = 0\n",
    "\n",
    "    for m in masks:\n",
    "        mask = Image.open(os.path.join(root_path, 'masks', m))\n",
    "        pixels = mask.getdata()\n",
    "        if 0 in pixels:\n",
    "            class_counter[0] += 1\n",
    "        if 85 in pixels:\n",
    "            class_counter[1] += 1\n",
    "        if 170 in pixels:\n",
    "            class_counter[2] += 1\n",
    "        if 255 in pixels:\n",
    "            class_counter[3] += 1\n",
    "        count += 1\n",
    "\n",
    "    print(class_counter)\n",
    "    weights = [count / class_counter[0],\n",
    "               count / class_counter[1],\n",
    "               count / class_counter[2],\n",
    "               count / class_counter[3]]\n",
    "    print(weights)\n",
    "    class_weights = {\n",
    "        0: weights[0],\n",
    "        1: weights[1],\n",
    "        2: weights[2],\n",
    "        3: weights[3]\n",
    "    }\n",
    "    return class_weights"
   ]
  },
  {
   "cell_type": "code",
   "execution_count": 24,
   "metadata": {},
   "outputs": [],
   "source": [
    "def calculate_weights_mse_pixel_wise(root_path):\n",
    "    masks_path = root_path + \"/masks\"\n",
    "    masks = [d for d in os.listdir(masks_path)]\n",
    "    class_counter = [0, 0, 0, 0]\n",
    "\n",
    "    for m in masks:\n",
    "        mask = Image.open(os.path.join(root_path, 'masks', m))\n",
    "        pixels = mask.getdata()\n",
    "        for p in pixels:\n",
    "            if p == 0:\n",
    "                class_counter[0] += 1\n",
    "            if p == 85:\n",
    "                class_counter[1] += 1\n",
    "            if p == 170:\n",
    "                class_counter[2] += 1\n",
    "            if p == 255:\n",
    "                class_counter[3] += 1\n",
    "\n",
    "    print(class_counter)\n",
    "    weights = [(sum(class_counter) - class_counter[0]) / class_counter[0],\n",
    "               (sum(class_counter) - class_counter[1]) / class_counter[1],\n",
    "               (sum(class_counter) - class_counter[2]) / class_counter[2],\n",
    "               (sum(class_counter) - class_counter[3]) / class_counter[3]]\n",
    "    print(weights)\n",
    "    class_weights = {\n",
    "        0: weights[0],\n",
    "        1: weights[1],\n",
    "        2: weights[2],\n",
    "        3: weights[3]\n",
    "    }\n",
    "    return class_weights"
   ]
  },
  {
   "cell_type": "code",
   "execution_count": 28,
   "metadata": {},
   "outputs": [
    {
     "name": "stdout",
     "output_type": "stream",
     "text": [
      "[303853201, 1738456, 1725338, 964349]\n",
      "[1.0, 174.78337156649349, 176.11227539183628, 315.08634425918416]\n",
      "[1.0, 174.78337156649349, 176.11227539183628, 315.08634425918416]\n"
     ]
    }
   ],
   "source": [
    "root_path = \"D:/Users/Sime/FER/Diplomski/Diplomski rad/Kapsularne/Retinal-fluid-segmentation/imgs/retouch_data/Spectralis\"\n",
    "class_weights = calculate_class_weights_pixel_wise(root_path)\n",
    "print(class_weights)"
   ]
  },
  {
   "cell_type": "code",
   "execution_count": 9,
   "metadata": {},
   "outputs": [],
   "source": [
    "def calc_class_proportions(dir_train_labels, n_classes):\n",
    "    img_paths = glob.glob(dir_train_labels + '*.png')\n",
    "    class_counts = np.zeros(n_classes)\n",
    "    for img_path in img_paths:\n",
    "        label_img = cv2.imread(img_path)[:,:,0]\n",
    "        img_label_counts = np.unique(label_img, return_counts = True)\n",
    "        print(img_label_counts)\n",
    "        class_counts = np.add(class_counts, img_label_counts[1])\n",
    "    class_proportions = class_counts / np.sum(class_counts)\n",
    "    return class_proportions\n",
    "\n",
    "def calc_class_weights(dir_train_labels, n_classes, scale = None):\n",
    "    class_props = calc_class_proportions(dir_train_labels, n_classes)\n",
    "    if scale == 'log':\n",
    "        weights = np.log(1 / class_props)\n",
    "    else: \n",
    "        max_prop = np.max(class_props)\n",
    "        weights = max_prop / class_props\n",
    "    return weights"
   ]
  },
  {
   "cell_type": "code",
   "execution_count": 5,
   "metadata": {},
   "outputs": [
    {
     "ename": "FileNotFoundError",
     "evalue": "[WinError 3] The system cannot find the path specified: 'D:/Users/Sime/FER/Diplomski/Diplomski rad/Kapsularne/Retinal-fluid-segmentation/imgs/retouch_data/Spectralis/masks/masks'",
     "output_type": "error",
     "traceback": [
      "\u001b[1;31m---------------------------------------------------------------------------\u001b[0m",
      "\u001b[1;31mFileNotFoundError\u001b[0m                         Traceback (most recent call last)",
      "\u001b[1;32m<ipython-input-5-105c67110610>\u001b[0m in \u001b[0;36m<module>\u001b[1;34m\u001b[0m\n\u001b[1;32m----> 1\u001b[1;33m \u001b[0mweights\u001b[0m \u001b[1;33m=\u001b[0m \u001b[0mcalculate_class_weights_presence\u001b[0m\u001b[1;33m(\u001b[0m\u001b[1;34m\"D:/Users/Sime/FER/Diplomski/Diplomski rad/Kapsularne/Retinal-fluid-segmentation/imgs/retouch_data/Spectralis/masks\"\u001b[0m\u001b[1;33m)\u001b[0m\u001b[1;33m\u001b[0m\u001b[1;33m\u001b[0m\u001b[0m\n\u001b[0m\u001b[0;32m      2\u001b[0m \u001b[0mprint\u001b[0m\u001b[1;33m(\u001b[0m\u001b[0mweights\u001b[0m\u001b[1;33m)\u001b[0m\u001b[1;33m\u001b[0m\u001b[1;33m\u001b[0m\u001b[0m\n",
      "\u001b[1;32m<ipython-input-3-fd65cdae776b>\u001b[0m in \u001b[0;36mcalculate_class_weights_presence\u001b[1;34m(root_path)\u001b[0m\n\u001b[0;32m      1\u001b[0m \u001b[1;32mdef\u001b[0m \u001b[0mcalculate_class_weights_presence\u001b[0m\u001b[1;33m(\u001b[0m\u001b[0mroot_path\u001b[0m\u001b[1;33m)\u001b[0m\u001b[1;33m:\u001b[0m\u001b[1;33m\u001b[0m\u001b[1;33m\u001b[0m\u001b[0m\n\u001b[0;32m      2\u001b[0m     \u001b[0mmasks_path\u001b[0m \u001b[1;33m=\u001b[0m \u001b[0mroot_path\u001b[0m \u001b[1;33m+\u001b[0m \u001b[1;34m\"/masks\"\u001b[0m\u001b[1;33m\u001b[0m\u001b[1;33m\u001b[0m\u001b[0m\n\u001b[1;32m----> 3\u001b[1;33m     \u001b[0mmasks\u001b[0m \u001b[1;33m=\u001b[0m \u001b[1;33m[\u001b[0m\u001b[0md\u001b[0m \u001b[1;32mfor\u001b[0m \u001b[0md\u001b[0m \u001b[1;32min\u001b[0m \u001b[0mos\u001b[0m\u001b[1;33m.\u001b[0m\u001b[0mlistdir\u001b[0m\u001b[1;33m(\u001b[0m\u001b[0mmasks_path\u001b[0m\u001b[1;33m)\u001b[0m\u001b[1;33m]\u001b[0m\u001b[1;33m\u001b[0m\u001b[1;33m\u001b[0m\u001b[0m\n\u001b[0m\u001b[0;32m      4\u001b[0m     \u001b[0mclass_counter\u001b[0m \u001b[1;33m=\u001b[0m \u001b[1;33m[\u001b[0m\u001b[1;36m0\u001b[0m\u001b[1;33m,\u001b[0m \u001b[1;36m0\u001b[0m\u001b[1;33m,\u001b[0m \u001b[1;36m0\u001b[0m\u001b[1;33m,\u001b[0m \u001b[1;36m0\u001b[0m\u001b[1;33m]\u001b[0m\u001b[1;33m\u001b[0m\u001b[1;33m\u001b[0m\u001b[0m\n\u001b[0;32m      5\u001b[0m \u001b[1;33m\u001b[0m\u001b[0m\n",
      "\u001b[1;31mFileNotFoundError\u001b[0m: [WinError 3] The system cannot find the path specified: 'D:/Users/Sime/FER/Diplomski/Diplomski rad/Kapsularne/Retinal-fluid-segmentation/imgs/retouch_data/Spectralis/masks/masks'"
     ]
    }
   ],
   "source": [
    "weights = calculate_class_weights_presence(\"D:/Users/Sime/FER/Diplomski/Diplomski rad/Kapsularne/Retinal-fluid-segmentation/imgs/retouch_data/Spectralis/masks\")\n",
    "print(weights)"
   ]
  },
  {
   "cell_type": "code",
   "execution_count": null,
   "metadata": {},
   "outputs": [],
   "source": []
  }
 ],
 "metadata": {
  "kernelspec": {
   "display_name": "Python 3",
   "language": "python",
   "name": "python3"
  },
  "language_info": {
   "codemirror_mode": {
    "name": "ipython",
    "version": 3
   },
   "file_extension": ".py",
   "mimetype": "text/x-python",
   "name": "python",
   "nbconvert_exporter": "python",
   "pygments_lexer": "ipython3",
   "version": "3.6.9"
  }
 },
 "nbformat": 4,
 "nbformat_minor": 2
}
