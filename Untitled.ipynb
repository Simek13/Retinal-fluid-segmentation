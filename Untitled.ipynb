{
 "cells": [
  {
   "cell_type": "code",
   "execution_count": 1,
   "metadata": {},
   "outputs": [],
   "source": [
    "from os.path import splitext, join\n",
    "from os import listdir\n",
    "import numpy as np\n",
    "from PIL import Image"
   ]
  },
  {
   "cell_type": "code",
   "execution_count": 6,
   "metadata": {},
   "outputs": [
    {
     "name": "stdout",
     "output_type": "stream",
     "text": [
      "74\n"
     ]
    }
   ],
   "source": [
    "root_path = 'datasets/Retouch/Spectralis'\n",
    "mask_ext='.png'\n",
    "images_path = root_path + \"/images\"\n",
    "masks_path = root_path + \"/masks\"\n",
    "image_files = [d for d in listdir(images_path)]\n",
    "count = 0\n",
    "for im in image_files:\n",
    "    name = splitext(im)[0]\n",
    "    mask_name = name + mask_ext\n",
    "    mask = np.array(Image.open(join(masks_path, mask_name)), dtype=np.uint8)\n",
    "    # if np.count_nonzero(mask) != 0:\n",
    "    if all(np.in1d([0, 85, 170, 255], mask)):\n",
    "        count +=1\n",
    "        \n",
    "print(count)"
   ]
  },
  {
   "cell_type": "code",
   "execution_count": null,
   "metadata": {},
   "outputs": [],
   "source": []
  }
 ],
 "metadata": {
  "kernelspec": {
   "display_name": "Python 3",
   "language": "python",
   "name": "python3"
  },
  "language_info": {
   "codemirror_mode": {
    "name": "ipython",
    "version": 3
   },
   "file_extension": ".py",
   "mimetype": "text/x-python",
   "name": "python",
   "nbconvert_exporter": "python",
   "pygments_lexer": "ipython3",
   "version": "3.6.9"
  }
 },
 "nbformat": 4,
 "nbformat_minor": 2
}
